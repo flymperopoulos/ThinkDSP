{
 "metadata": {
  "name": "",
  "signature": "sha256:840d5b684e5a1da498d809c6fb933157fe558ee0aee7fa621256aa9ae1393cbf"
 },
 "nbformat": 3,
 "nbformat_minor": 0,
 "worksheets": [
  {
   "cells": [
    {
     "cell_type": "markdown",
     "metadata": {},
     "source": [
      "This ipython notebook will hold the solutions of Filippos Lymperopoulos for Problem Set 4 of the Signals and Systems class at Olin College of Engineering, Spring 2015."
     ]
    },
    {
     "cell_type": "markdown",
     "metadata": {},
     "source": [
      "$\\bf 1)$ Please finish this exercise that we started in class: One of the examples in chap07.ipynb compares two mixtures of complex sinusoids, one with offset=0 and one with offset=1. The result is a different looking waveform, because \"rotating\" each component by the same phase offset does not shift each component by the same amount of time. Can you construct a vector of complex amplitudes that shifts all components by the same amount of time?"
     ]
    },
    {
     "cell_type": "code",
     "collapsed": false,
     "input": [
      "from __future__ import print_function, division\n",
      "\n",
      "import thinkdsp\n",
      "import thinkplot\n",
      "import thinkstats2\n",
      "import math\n",
      "import numpy\n",
      "import pandas\n",
      "import scipy.signal\n",
      "\n",
      "%matplotlib inline\n",
      "\n",
      "# definition of 2*pi\n",
      "PI2 = 2 * math.pi"
     ],
     "language": "python",
     "metadata": {},
     "outputs": [],
     "prompt_number": 1
    },
    {
     "cell_type": "markdown",
     "metadata": {},
     "source": [
      "Using the same data for frequencies and other data, as given in chap07, we declare the following."
     ]
    },
    {
     "cell_type": "code",
     "collapsed": false,
     "input": [
      "# coefficient of complex \"i\"\n",
      "i = complex(0,1)\n",
      "\n",
      "# declaration of numpy array of amplitudes\n",
      "amps = numpy.array([0.6, 0.25, 0.1, 0.05])\n",
      "\n",
      "# frequencies declared\n",
      "freqs = [100, 200, 300, 400]\n",
      "\n",
      "# framerate of collecting data\n",
      "framerate = 11025\n",
      "\n",
      "# amount of data time points with linspace\n",
      "ts = numpy.linspace(0, 1, framerate)"
     ],
     "language": "python",
     "metadata": {},
     "outputs": [],
     "prompt_number": 2
    },
    {
     "cell_type": "markdown",
     "metadata": {},
     "source": [
      "We can now define our synthesize function, as given to us in Chapter 7."
     ]
    },
    {
     "cell_type": "code",
     "collapsed": false,
     "input": [
      "def synthesize2(amps, freqs, ts):\n",
      "    \n",
      "    # product of times and frequencies     \n",
      "    args = numpy.outer(ts, freqs)\n",
      "    # matrix M with members being the e^(2*pi*t*f) \n",
      "    M = numpy.exp(i * PI2 * args)\n",
      "    # matrix and vector multiplication result in the amplitudes \"ys\"\n",
      "    ys = numpy.dot(M, amps)\n",
      "    \n",
      "    return ys"
     ],
     "language": "python",
     "metadata": {},
     "outputs": [],
     "prompt_number": 3
    },
    {
     "cell_type": "markdown",
     "metadata": {},
     "source": [
      "Having the function that takes the amplitudes and frequencies of the signal and computes the amplitudes vector, it is time to define our \"new\" amplitude - called $\\it{ampNew}$, that will perform what the question asks."
     ]
    },
    {
     "cell_type": "code",
     "collapsed": false,
     "input": [
      "# value in the exponent\n",
      "value = numpy.multiply(i*PI2/16, freqs)\n",
      "\n",
      "# multiplying amplitudes to produce that offset\n",
      "ampNew = amps * numpy.exp(value)\n",
      "\n",
      "ysInitial = synthesize2(amps, freqs, ts)\n",
      "resNew = synthesize2(ampNew, freqs, ts)\n",
      "\n",
      "n=400\n",
      "\n",
      "thinkplot.plot(ts[:n], ysInitial.real[:n], label=r'$initial wave$')\n",
      "thinkplot.plot(ts[:n], resNew.real[:n], label=r'$complex amps$')\n",
      "thinkplot.config(ylim=[-1.15, 1.05])"
     ],
     "language": "python",
     "metadata": {},
     "outputs": [
      {
       "metadata": {},
       "output_type": "display_data",
       "png": "[encoded data removed]",
       "text": [
        "<matplotlib.figure.Figure at 0x14c25b70>"
       ]
      }
     ],
     "prompt_number": 4
    },
    {
     "cell_type": "markdown",
     "metadata": {},
     "source": [
      "As it can be seen above, no change took place in the phases between the two siganls generated, however, there was a change in the amplitude shifting by the multiplication of $e^{2\\pi ft}$, where t in this case is a constant, i.e. $\\frac{1}{16}$. Hence the resulting expression is of the form $e^{2\\pi f(t + \\frac{1}{8})}$"
     ]
    },
    {
     "cell_type": "markdown",
     "metadata": {},
     "source": [
      "$\\bf 2)$ In Chapter 7 I represented the DFT as matrix multiplication, but the more common presentation is as a summation: From http://en.wikipedia.org/wiki/Discrete_Fourier_transform: Read the Wikipedia page on DFT. Write an implementation of DFT based on this summation and compare your results to my implementation and/or numpy.fft.fft."
     ]
    },
    {
     "cell_type": "markdown",
     "metadata": {},
     "source": [
      "Reading through the article in the Wikipedia article we are able to construct a method that performs DFT."
     ]
    },
    {
     "cell_type": "code",
     "collapsed": false,
     "input": [
      "def DFT_implementation(ys):\n",
      "    N = len(ys)\n",
      "    # makes array from 0 to N\n",
      "    freqs = numpy.arange(N)\n",
      "    \n",
      "    # sets sum to 0 \n",
      "    res_sum = 0\n",
      "    for i in range(N-1):\n",
      "        # implements algorithm     \n",
      "        res_sum += ys[i]*numpy.exp((-1j*PI2*i*freqs)/N)\n",
      "    return res_sum\n",
      "\n",
      "signal_test = thinkdsp.SquareSignal()\n",
      "wave = signal_test.make_wave(duration = .1)\n",
      "sumFinalRes = DFT_implementation(wave.ys)\n",
      "\n",
      "# plots the real data of the sumFinalRes\n",
      "thinkplot.plot(sumFinalRes.real)"
     ],
     "language": "python",
     "metadata": {},
     "outputs": [
      {
       "metadata": {},
       "output_type": "display_data",
       "png": "[encoded data removed]",
       "text": [
        "<matplotlib.figure.Figure at 0x430e390>"
       ]
      }
     ],
     "prompt_number": 5
    },
    {
     "cell_type": "markdown",
     "metadata": {},
     "source": [
      "On the other hand, if we try to implement the same method with numpy.fft.fft, we get the following results."
     ]
    },
    {
     "cell_type": "code",
     "collapsed": false,
     "input": [
      "fftsumRes = numpy.fft.fft(wave.ys)\n",
      "\n",
      "thinkplot.plot(fftsumRes.real)"
     ],
     "language": "python",
     "metadata": {},
     "outputs": [
      {
       "metadata": {},
       "output_type": "display_data",
       "png": "[encoded data removed]",
       "text": [
        "<matplotlib.figure.Figure at 0x14c25438>"
       ]
      }
     ],
     "prompt_number": 6
    },
    {
     "cell_type": "markdown",
     "metadata": {},
     "source": [
      "The two graphs generated above, indicate that the two ways of implementing the DFT algorithm lead at a very similar result, when, for instance, looking at the value of the real coefficients at all times."
     ]
    },
    {
     "cell_type": "markdown",
     "metadata": {},
     "source": [
      "$\\bf 3)$ In Chapter 7, I showed how we can express the DFT and inverse DFT as matrix multiplications. These operations are relatively fast, taking time proportional to $N^2$, where N is the length of the wave array. That would be fast enough for many applications, but it turns out that there is a faster algorithm, the Fast Fourier Transform (FFT), which takes time proportional to $NlogN$. Read about the FFT at http://en.wikipedia.org/wiki/Cooley-Tukey_FFT_algorithm, and write an implementation. Hint: I suggest you write a simple version as a recursive function; don\u2019t worry about \u201cdata reordering, bit reversal, and in-place algorithms\u201d."
     ]
    },
    {
     "cell_type": "code",
     "collapsed": false,
     "input": [
      "def FFTLog(ys):\n",
      "    \n",
      "    N = len(ys)\n",
      "    value = -i * PI2 * numpy.arange(N) / N\n",
      "    X = numpy.exp(value)\n",
      "    if N == 1:\n",
      "        return ys\n",
      "    else:\n",
      "        even = FFTLog(ys[::2])\n",
      "        odd = FFTLog(ys[1::2])\n",
      "        part0 = even + X[:N/2] * odd\n",
      "        part1 = even + X[N/2:] * odd\n",
      "        return numpy.concatenate([part0,part1]) "
     ],
     "language": "python",
     "metadata": {},
     "outputs": [],
     "prompt_number": 7
    },
    {
     "cell_type": "markdown",
     "metadata": {},
     "source": [
      "Hence, if we implement the method formed above to display its variation over time we get the following graph. I am generating the imaginary components to show the degree at which they are similar with the imaginery components, determined by the $DFT\\_implementation$ method."
     ]
    },
    {
     "cell_type": "code",
     "collapsed": false,
     "input": [
      "resFFTLog = FFTLog(wave.ys[0:2**10])\n",
      "thinkplot.plot(resFFTLog.imag)"
     ],
     "language": "python",
     "metadata": {},
     "outputs": [
      {
       "metadata": {},
       "output_type": "display_data",
       "png": "[encoded data removed]",
       "text": [
        "<matplotlib.figure.Figure at 0x171c8c50>"
       ]
      }
     ],
     "prompt_number": 8
    },
    {
     "cell_type": "markdown",
     "metadata": {},
     "source": [
      "And now, with the $DFT\\_implementation$ we get the graph below. It is remarkable how similar these two graphs generated from the two methods are in shape."
     ]
    },
    {
     "cell_type": "code",
     "collapsed": false,
     "input": [
      "thinkplot.plot(fftsumRes.imag)"
     ],
     "language": "python",
     "metadata": {},
     "outputs": [
      {
       "metadata": {},
       "output_type": "display_data",
       "png": "[encoded data removed]",
       "text": [
        "<matplotlib.figure.Figure at 0x171e9c18>"
       ]
      }
     ],
     "prompt_number": 9
    },
    {
     "cell_type": "markdown",
     "metadata": {},
     "source": [
      "$\\bf 4)$ Using the timing code from PS03, compare the performance of my implementation of autocorr from Chapter 5, my fft_autocorr from Chapter 8, and numpy.correlate. Can you tell whether NumPy is using the FFT algorithm?"
     ]
    },
    {
     "cell_type": "markdown",
     "metadata": {},
     "source": [
      "Initially, I am going to declare the functions related to autocorr so that we have the system setup correctly to run the algorithmic complexity tests."
     ]
    },
    {
     "cell_type": "code",
     "collapsed": false,
     "input": [
      "# corrcoef, serial_corr and autocorr methods assigned\n",
      "def corrcoef(xs, ys):\n",
      "    return numpy.corrcoef(xs, ys, ddof=0)[0, 1]\n",
      "\n",
      "def serial_corr(wave, lag=1):\n",
      "    N = len(wave)\n",
      "    y1 = wave.ys[lag:]\n",
      "    y2 = wave.ys[:N-lag]\n",
      "    corr = corrcoef(y1, y2)\n",
      "    return corr\n",
      "\n",
      "def autocorr(wave):\n",
      "    lags = range(len(wave.ys)//2)\n",
      "    corrs = [serial_corr(wave, lag) for lag in lags]\n",
      "    return lags, corrs\n",
      "\n",
      "# fft_convolve, zero_pad and fft_autocorr methods declared\n",
      "def fft_convolve(signal, window):\n",
      "    fft_signal = numpy.fft.fft(signal)\n",
      "    fft_window = numpy.fft.fft(window)\n",
      "    return numpy.fft.ifft(fft_signal * fft_window)\n",
      "\n",
      "def zero_pad(array, n):\n",
      "    res = numpy.zeros(n)\n",
      "    res[:len(array)] = array\n",
      "    return res\n",
      "\n",
      "def fft_autocorr(signal):\n",
      "    N = len(signal)\n",
      "    window = signal[::-1]\n",
      "    signal = zero_pad(signal, 2*N)\n",
      "    window = zero_pad(window, 2*N)\n",
      "\n",
      "    corrs = fft_convolve(signal, window)\n",
      "    corrs = corrs[N//2: 3*N//2]\n",
      "    return corrs"
     ],
     "language": "python",
     "metadata": {},
     "outputs": [],
     "prompt_number": 10
    },
    {
     "cell_type": "markdown",
     "metadata": {},
     "source": [
      "Similarly to ps03, we are going to implement the tests. We are going to create a signal characterized by UG noise and proceed with testing the autocorr method."
     ]
    },
    {
     "cell_type": "code",
     "collapsed": false,
     "input": [
      "# creation of signal with UG noise\n",
      "signal = thinkdsp.UncorrelatedGaussianNoise()\n",
      "noise = signal.make_wave(duration=1.0)\n",
      "\n",
      "ns = 2 ** numpy.arange(4, 12)\n",
      "results = []\n",
      "for N in ns:\n",
      "    ys = noise.ys[:N]\n",
      "    result = %timeit -o autocorr(thinkdsp.Wave(ys, 11400))\n",
      "    results.append(result)\n",
      "bestsNo1 = [result.best for result in results]\n",
      "bestsNo1"
     ],
     "language": "python",
     "metadata": {},
     "outputs": [
      {
       "output_type": "stream",
       "stream": "stdout",
       "text": [
        "1000 loops, best of 3: 340 \u00b5s per loop\n",
        "1000 loops, best of 3: 698 \u00b5s per loop"
       ]
      },
      {
       "output_type": "stream",
       "stream": "stdout",
       "text": [
        "\n",
        "1000 loops, best of 3: 1.39 ms per loop"
       ]
      },
      {
       "output_type": "stream",
       "stream": "stdout",
       "text": [
        "\n",
        "100 loops, best of 3: 2.92 ms per loop"
       ]
      },
      {
       "output_type": "stream",
       "stream": "stdout",
       "text": [
        "\n",
        "100 loops, best of 3: 6.09 ms per loop"
       ]
      },
      {
       "output_type": "stream",
       "stream": "stdout",
       "text": [
        "\n",
        "100 loops, best of 3: 12.3 ms per loop"
       ]
      },
      {
       "output_type": "stream",
       "stream": "stdout",
       "text": [
        "\n",
        "10 loops, best of 3: 31.9 ms per loop"
       ]
      },
      {
       "output_type": "stream",
       "stream": "stdout",
       "text": [
        "\n",
        "10 loops, best of 3: 73.5 ms per loop"
       ]
      },
      {
       "output_type": "stream",
       "stream": "stdout",
       "text": [
        "\n"
       ]
      },
      {
       "metadata": {},
       "output_type": "pyout",
       "prompt_number": 11,
       "text": [
        "[0.0003402163629210124,\n",
        " 0.0006984800903720796,\n",
        " 0.0013916584570932936,\n",
        " 0.002916249339553101,\n",
        " 0.006089085941477972,\n",
        " 0.012282911999879466,\n",
        " 0.03189266021337715,\n",
        " 0.07349603868823493]"
       ]
      }
     ],
     "prompt_number": 11
    },
    {
     "cell_type": "markdown",
     "metadata": {},
     "source": [
      "Next, we will implement the case of the fft_autocorr and observe the results generated."
     ]
    },
    {
     "cell_type": "code",
     "collapsed": false,
     "input": [
      "ns = 2 ** numpy.arange(4, 12)\n",
      "results = []\n",
      "for N in ns:\n",
      "    ys = noise.ys[:N]\n",
      "    result = %timeit -o fft_autocorr(ys)\n",
      "    results.append(result)\n",
      "    \n",
      "bestsNo2 = [result.best for result in results]\n",
      "bestsNo2"
     ],
     "language": "python",
     "metadata": {},
     "outputs": [
      {
       "output_type": "stream",
       "stream": "stdout",
       "text": [
        "10000 loops, best of 3: 25.9 \u00b5s per loop\n",
        "10000 loops, best of 3: 27.3 \u00b5s per loop"
       ]
      },
      {
       "output_type": "stream",
       "stream": "stdout",
       "text": [
        "\n",
        "10000 loops, best of 3: 30.2 \u00b5s per loop"
       ]
      },
      {
       "output_type": "stream",
       "stream": "stdout",
       "text": [
        "\n",
        "10000 loops, best of 3: 35.2 \u00b5s per loop"
       ]
      },
      {
       "output_type": "stream",
       "stream": "stdout",
       "text": [
        "\n",
        "10000 loops, best of 3: 48.8 \u00b5s per loop"
       ]
      },
      {
       "output_type": "stream",
       "stream": "stdout",
       "text": [
        "\n",
        "10000 loops, best of 3: 77.8 \u00b5s per loop"
       ]
      },
      {
       "output_type": "stream",
       "stream": "stdout",
       "text": [
        "\n",
        "10000 loops, best of 3: 134 \u00b5s per loop"
       ]
      },
      {
       "output_type": "stream",
       "stream": "stdout",
       "text": [
        "\n",
        "1000 loops, best of 3: 250 \u00b5s per loop"
       ]
      },
      {
       "output_type": "stream",
       "stream": "stdout",
       "text": [
        "\n"
       ]
      },
      {
       "metadata": {},
       "output_type": "pyout",
       "prompt_number": 12,
       "text": [
        "[2.59010584614078e-05,\n",
        " 2.728858764862423e-05,\n",
        " 3.0181576244935826e-05,\n",
        " 3.5179537120454894e-05,\n",
        " 4.8846773235318256e-05,\n",
        " 7.781535291235286e-05,\n",
        " 0.00013415141432372834,\n",
        " 0.00024975456885444205]"
       ]
      }
     ],
     "prompt_number": 12
    },
    {
     "cell_type": "markdown",
     "metadata": {},
     "source": [
      "Finally, we are implementing the case when we are testing the numpy.correlate method."
     ]
    },
    {
     "cell_type": "code",
     "collapsed": false,
     "input": [
      "ns = 2 ** numpy.arange(4, 12)\n",
      "results = []\n",
      "for N in ns:\n",
      "    ys = noise.ys[:N]\n",
      "    result = %timeit -o numpy.correlate(ys, ys, 'same')\n",
      "    results.append(result)\n",
      "bestsNo3 = [result.best for result in results]\n",
      "bestsNo3"
     ],
     "language": "python",
     "metadata": {},
     "outputs": [
      {
       "output_type": "stream",
       "stream": "stdout",
       "text": [
        "100000 loops, best of 3: 2.14 \u00b5s per loop\n",
        "100000 loops, best of 3: 2.7 \u00b5s per loop"
       ]
      },
      {
       "output_type": "stream",
       "stream": "stdout",
       "text": [
        "\n",
        "100000 loops, best of 3: 4.03 \u00b5s per loop"
       ]
      },
      {
       "output_type": "stream",
       "stream": "stdout",
       "text": [
        "\n",
        "100000 loops, best of 3: 7.56 \u00b5s per loop"
       ]
      },
      {
       "output_type": "stream",
       "stream": "stdout",
       "text": [
        "\n",
        "100000 loops, best of 3: 18.2 \u00b5s per loop"
       ]
      },
      {
       "output_type": "stream",
       "stream": "stdout",
       "text": [
        "\n",
        "10000 loops, best of 3: 54.9 \u00b5s per loop"
       ]
      },
      {
       "output_type": "stream",
       "stream": "stdout",
       "text": [
        "\n",
        "10000 loops, best of 3: 178 \u00b5s per loop"
       ]
      },
      {
       "output_type": "stream",
       "stream": "stdout",
       "text": [
        "\n",
        "1000 loops, best of 3: 643 \u00b5s per loop"
       ]
      },
      {
       "output_type": "stream",
       "stream": "stdout",
       "text": [
        "\n"
       ]
      },
      {
       "metadata": {},
       "output_type": "pyout",
       "prompt_number": 13,
       "text": [
        "[2.1378516633674137e-06,\n",
        " 2.697886672617926e-06,\n",
        " 4.026591142015832e-06,\n",
        " 7.559758674497132e-06,\n",
        " 1.823876486925805e-05,\n",
        " 5.492017966210483e-05,\n",
        " 0.000178122608394618,\n",
        " 0.0006431662278525607]"
       ]
      }
     ],
     "prompt_number": 13
    },
    {
     "cell_type": "markdown",
     "metadata": {},
     "source": [
      "Finally our goal is to compare this and observe the way they behave as the data set increases in the log-scale."
     ]
    },
    {
     "cell_type": "code",
     "collapsed": false,
     "input": [
      "thinkplot.plot(ns, bestsNo1, color = 'blue', label = 'autocorr')\n",
      "thinkplot.plot(ns, bestsNo2,color = 'yellow', label = 'fft_autocorr')\n",
      "thinkplot.plot(ns, bestsNo3, color = 'green',label = 'correlate')\n",
      "thinkplot.config(xscale='log', yscale='log')"
     ],
     "language": "python",
     "metadata": {},
     "outputs": [
      {
       "metadata": {},
       "output_type": "display_data",
       "png": "[encoded data removed]",
       "text": [
        "<matplotlib.figure.Figure at 0x16dfb8d0>"
       ]
      }
     ],
     "prompt_number": 14
    },
    {
     "cell_type": "markdown",
     "metadata": {},
     "source": [
      "Looking at the figure above there are several conclusions that can be made in terms of the algorithmic complexity of the different methods. Initially, it has to be pointed out that $fft\\_autocorr$ is inefficient compared to the rest. Moreover, $autocorr$ is fast at small numbers of N, however, when these increase, it slows down. As a result, I believe that $correlate$ has a $NlogN$ type of structure, and that it uses fft to compute its results."
     ]
    }
   ],
   "metadata": {}
  }
 ]
}